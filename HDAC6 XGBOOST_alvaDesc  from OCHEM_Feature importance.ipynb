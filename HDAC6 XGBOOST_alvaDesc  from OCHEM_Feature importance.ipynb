{
 "cells": [
  {
   "cell_type": "markdown",
   "metadata": {},
   "source": [
    "# 1. Importing modules and functions"
   ]
  },
  {
   "cell_type": "code",
   "execution_count": 31,
   "metadata": {},
   "outputs": [],
   "source": [
    "import numpy as np\n",
    "import pandas as pd\n",
    "from sklearn.ensemble import RandomForestClassifier, GradientBoostingClassifier\n",
    "from sklearn.model_selection import StratifiedKFold, GridSearchCV"
   ]
  },
  {
   "cell_type": "markdown",
   "metadata": {},
   "source": [
    "# 2.Data entry and curation work set"
   ]
  },
  {
   "cell_type": "code",
   "execution_count": 32,
   "metadata": {},
   "outputs": [],
   "source": [
    "tr = pd.read_csv('HDAC6_alvaDesc_ws.csv', sep=\";\")"
   ]
  },
  {
   "cell_type": "code",
   "execution_count": 33,
   "metadata": {},
   "outputs": [],
   "source": [
    "y_tr=tr.HDAC6_measured"
   ]
  },
  {
   "cell_type": "code",
   "execution_count": 34,
   "metadata": {},
   "outputs": [],
   "source": [
    "x_tr=tr.drop(['HDAC6_measured'], axis=1)"
   ]
  },
  {
   "cell_type": "code",
   "execution_count": 35,
   "metadata": {},
   "outputs": [
    {
     "data": {
      "text/plain": [
       "(25, 942)"
      ]
     },
     "execution_count": 35,
     "metadata": {},
     "output_type": "execute_result"
    }
   ],
   "source": [
    "x_tr.shape"
   ]
  },
  {
   "cell_type": "markdown",
   "metadata": {},
   "source": [
    "# 3.Data entry and curation test set"
   ]
  },
  {
   "cell_type": "code",
   "execution_count": 36,
   "metadata": {},
   "outputs": [],
   "source": [
    "ts = pd.read_csv('HDAC6_alvaDesc_ts.csv', sep= ';')"
   ]
  },
  {
   "cell_type": "code",
   "execution_count": 37,
   "metadata": {},
   "outputs": [],
   "source": [
    "y_ts=ts.HDAC6_measured"
   ]
  },
  {
   "cell_type": "code",
   "execution_count": 38,
   "metadata": {},
   "outputs": [],
   "source": [
    "x_ts=ts.drop(['HDAC6_measured'], axis=1)"
   ]
  },
  {
   "cell_type": "code",
   "execution_count": 39,
   "metadata": {},
   "outputs": [
    {
     "data": {
      "text/html": [
       "<div>\n",
       "<style scoped>\n",
       "    .dataframe tbody tr th:only-of-type {\n",
       "        vertical-align: middle;\n",
       "    }\n",
       "\n",
       "    .dataframe tbody tr th {\n",
       "        vertical-align: top;\n",
       "    }\n",
       "\n",
       "    .dataframe thead th {\n",
       "        text-align: right;\n",
       "    }\n",
       "</style>\n",
       "<table border=\"1\" class=\"dataframe\">\n",
       "  <thead>\n",
       "    <tr style=\"text-align: right;\">\n",
       "      <th></th>\n",
       "      <th>MW</th>\n",
       "      <th>AMW</th>\n",
       "      <th>Se</th>\n",
       "      <th>Mv</th>\n",
       "      <th>nAA</th>\n",
       "      <th>nTA</th>\n",
       "      <th>RBN</th>\n",
       "      <th>RBF</th>\n",
       "      <th>nDB</th>\n",
       "      <th>nH</th>\n",
       "      <th>...</th>\n",
       "      <th>WHALES30_IR</th>\n",
       "      <th>WHALES40_IR</th>\n",
       "      <th>WHALES50_IR</th>\n",
       "      <th>WHALES70_IR</th>\n",
       "      <th>WHALES80_IR</th>\n",
       "      <th>WHALES90_IR</th>\n",
       "      <th>WHALES100_IR</th>\n",
       "      <th>MDEC-11</th>\n",
       "      <th>MDEC-22</th>\n",
       "      <th>MDEN-23</th>\n",
       "    </tr>\n",
       "  </thead>\n",
       "  <tbody>\n",
       "    <tr>\n",
       "      <th>0</th>\n",
       "      <td>408.000</td>\n",
       "      <td>7.410</td>\n",
       "      <td>55.300</td>\n",
       "      <td>0.628</td>\n",
       "      <td>16.000</td>\n",
       "      <td>3.000</td>\n",
       "      <td>10.000</td>\n",
       "      <td>0.175</td>\n",
       "      <td>2.000</td>\n",
       "      <td>25.000</td>\n",
       "      <td>...</td>\n",
       "      <td>-0.118</td>\n",
       "      <td>-0.055</td>\n",
       "      <td>-0.030</td>\n",
       "      <td>0.043</td>\n",
       "      <td>0.077</td>\n",
       "      <td>0.180</td>\n",
       "      <td>0.718</td>\n",
       "      <td>0.000</td>\n",
       "      <td>19.100</td>\n",
       "      <td>0.000</td>\n",
       "    </tr>\n",
       "    <tr>\n",
       "      <th>1</th>\n",
       "      <td>454.000</td>\n",
       "      <td>7.560</td>\n",
       "      <td>60.900</td>\n",
       "      <td>0.625</td>\n",
       "      <td>16.000</td>\n",
       "      <td>5.000</td>\n",
       "      <td>11.000</td>\n",
       "      <td>0.177</td>\n",
       "      <td>2.000</td>\n",
       "      <td>27.000</td>\n",
       "      <td>...</td>\n",
       "      <td>-0.030</td>\n",
       "      <td>-0.021</td>\n",
       "      <td>-0.011</td>\n",
       "      <td>0.052</td>\n",
       "      <td>0.075</td>\n",
       "      <td>0.107</td>\n",
       "      <td>0.285</td>\n",
       "      <td>0.200</td>\n",
       "      <td>13.000</td>\n",
       "      <td>0.000</td>\n",
       "    </tr>\n",
       "    <tr>\n",
       "      <th>2</th>\n",
       "      <td>428.000</td>\n",
       "      <td>8.230</td>\n",
       "      <td>52.800</td>\n",
       "      <td>0.650</td>\n",
       "      <td>16.000</td>\n",
       "      <td>4.000</td>\n",
       "      <td>9.000</td>\n",
       "      <td>0.167</td>\n",
       "      <td>2.000</td>\n",
       "      <td>22.000</td>\n",
       "      <td>...</td>\n",
       "      <td>-0.084</td>\n",
       "      <td>-0.048</td>\n",
       "      <td>-0.028</td>\n",
       "      <td>0.044</td>\n",
       "      <td>0.065</td>\n",
       "      <td>0.160</td>\n",
       "      <td>0.579</td>\n",
       "      <td>0.000</td>\n",
       "      <td>14.800</td>\n",
       "      <td>0.000</td>\n",
       "    </tr>\n",
       "    <tr>\n",
       "      <th>3</th>\n",
       "      <td>472.000</td>\n",
       "      <td>9.080</td>\n",
       "      <td>52.700</td>\n",
       "      <td>0.654</td>\n",
       "      <td>16.000</td>\n",
       "      <td>4.000</td>\n",
       "      <td>9.000</td>\n",
       "      <td>0.167</td>\n",
       "      <td>2.000</td>\n",
       "      <td>22.000</td>\n",
       "      <td>...</td>\n",
       "      <td>-0.082</td>\n",
       "      <td>-0.046</td>\n",
       "      <td>-0.027</td>\n",
       "      <td>0.046</td>\n",
       "      <td>0.067</td>\n",
       "      <td>0.173</td>\n",
       "      <td>0.654</td>\n",
       "      <td>0.000</td>\n",
       "      <td>14.800</td>\n",
       "      <td>0.000</td>\n",
       "    </tr>\n",
       "    <tr>\n",
       "      <th>4</th>\n",
       "      <td>486.000</td>\n",
       "      <td>8.840</td>\n",
       "      <td>55.600</td>\n",
       "      <td>0.646</td>\n",
       "      <td>16.000</td>\n",
       "      <td>4.000</td>\n",
       "      <td>10.000</td>\n",
       "      <td>0.175</td>\n",
       "      <td>2.000</td>\n",
       "      <td>24.000</td>\n",
       "      <td>...</td>\n",
       "      <td>-0.093</td>\n",
       "      <td>-0.044</td>\n",
       "      <td>-0.029</td>\n",
       "      <td>0.043</td>\n",
       "      <td>0.065</td>\n",
       "      <td>0.169</td>\n",
       "      <td>0.354</td>\n",
       "      <td>0.000</td>\n",
       "      <td>16.700</td>\n",
       "      <td>0.000</td>\n",
       "    </tr>\n",
       "    <tr>\n",
       "      <th>5</th>\n",
       "      <td>442.000</td>\n",
       "      <td>8.040</td>\n",
       "      <td>55.700</td>\n",
       "      <td>0.643</td>\n",
       "      <td>16.000</td>\n",
       "      <td>4.000</td>\n",
       "      <td>10.000</td>\n",
       "      <td>0.175</td>\n",
       "      <td>2.000</td>\n",
       "      <td>24.000</td>\n",
       "      <td>...</td>\n",
       "      <td>-0.079</td>\n",
       "      <td>-0.055</td>\n",
       "      <td>-0.029</td>\n",
       "      <td>0.042</td>\n",
       "      <td>0.066</td>\n",
       "      <td>0.151</td>\n",
       "      <td>0.348</td>\n",
       "      <td>0.000</td>\n",
       "      <td>16.700</td>\n",
       "      <td>0.000</td>\n",
       "    </tr>\n",
       "    <tr>\n",
       "      <th>6</th>\n",
       "      <td>468.000</td>\n",
       "      <td>7.420</td>\n",
       "      <td>63.700</td>\n",
       "      <td>0.619</td>\n",
       "      <td>16.000</td>\n",
       "      <td>5.000</td>\n",
       "      <td>12.000</td>\n",
       "      <td>0.185</td>\n",
       "      <td>2.000</td>\n",
       "      <td>29.000</td>\n",
       "      <td>...</td>\n",
       "      <td>-0.033</td>\n",
       "      <td>-0.022</td>\n",
       "      <td>-0.011</td>\n",
       "      <td>0.043</td>\n",
       "      <td>0.071</td>\n",
       "      <td>0.098</td>\n",
       "      <td>0.269</td>\n",
       "      <td>0.200</td>\n",
       "      <td>15.000</td>\n",
       "      <td>0.000</td>\n",
       "    </tr>\n",
       "  </tbody>\n",
       "</table>\n",
       "<p>7 rows × 942 columns</p>\n",
       "</div>"
      ],
      "text/plain": [
       "       MW   AMW     Se    Mv    nAA   nTA    RBN   RBF   nDB     nH  ...  \\\n",
       "0 408.000 7.410 55.300 0.628 16.000 3.000 10.000 0.175 2.000 25.000  ...   \n",
       "1 454.000 7.560 60.900 0.625 16.000 5.000 11.000 0.177 2.000 27.000  ...   \n",
       "2 428.000 8.230 52.800 0.650 16.000 4.000  9.000 0.167 2.000 22.000  ...   \n",
       "3 472.000 9.080 52.700 0.654 16.000 4.000  9.000 0.167 2.000 22.000  ...   \n",
       "4 486.000 8.840 55.600 0.646 16.000 4.000 10.000 0.175 2.000 24.000  ...   \n",
       "5 442.000 8.040 55.700 0.643 16.000 4.000 10.000 0.175 2.000 24.000  ...   \n",
       "6 468.000 7.420 63.700 0.619 16.000 5.000 12.000 0.185 2.000 29.000  ...   \n",
       "\n",
       "   WHALES30_IR  WHALES40_IR  WHALES50_IR  WHALES70_IR  WHALES80_IR  \\\n",
       "0       -0.118       -0.055       -0.030        0.043        0.077   \n",
       "1       -0.030       -0.021       -0.011        0.052        0.075   \n",
       "2       -0.084       -0.048       -0.028        0.044        0.065   \n",
       "3       -0.082       -0.046       -0.027        0.046        0.067   \n",
       "4       -0.093       -0.044       -0.029        0.043        0.065   \n",
       "5       -0.079       -0.055       -0.029        0.042        0.066   \n",
       "6       -0.033       -0.022       -0.011        0.043        0.071   \n",
       "\n",
       "   WHALES90_IR  WHALES100_IR  MDEC-11  MDEC-22  MDEN-23  \n",
       "0        0.180         0.718    0.000   19.100    0.000  \n",
       "1        0.107         0.285    0.200   13.000    0.000  \n",
       "2        0.160         0.579    0.000   14.800    0.000  \n",
       "3        0.173         0.654    0.000   14.800    0.000  \n",
       "4        0.169         0.354    0.000   16.700    0.000  \n",
       "5        0.151         0.348    0.000   16.700    0.000  \n",
       "6        0.098         0.269    0.200   15.000    0.000  \n",
       "\n",
       "[7 rows x 942 columns]"
      ]
     },
     "execution_count": 39,
     "metadata": {},
     "output_type": "execute_result"
    }
   ],
   "source": [
    "x_ts"
   ]
  },
  {
   "cell_type": "markdown",
   "metadata": {},
   "source": [
    "# 4. GBM model building   "
   ]
  },
  {
   "cell_type": "code",
   "execution_count": 40,
   "metadata": {},
   "outputs": [],
   "source": [
    "seed = 42"
   ]
  },
  {
   "cell_type": "code",
   "execution_count": 41,
   "metadata": {},
   "outputs": [],
   "source": [
    "cv = StratifiedKFold(n_splits=5, shuffle=True, random_state=seed)"
   ]
  },
  {
   "cell_type": "code",
   "execution_count": 42,
   "metadata": {},
   "outputs": [],
   "source": [
    "param_grid = {\"n_estimators\": [1024]}\n",
    "gbm = GridSearchCV(GradientBoostingClassifier(subsample=0.5, max_features=0.2), \n",
    "                   param_grid, n_jobs=2, cv=cv, verbose=1)"
   ]
  },
  {
   "cell_type": "code",
   "execution_count": 43,
   "metadata": {},
   "outputs": [
    {
     "name": "stdout",
     "output_type": "stream",
     "text": [
      "Fitting 5 folds for each of 1 candidates, totalling 5 fits\n"
     ]
    },
    {
     "data": {
      "text/plain": [
       "GridSearchCV(cv=StratifiedKFold(n_splits=5, random_state=42, shuffle=True),\n",
       "             estimator=GradientBoostingClassifier(max_features=0.2,\n",
       "                                                  subsample=0.5),\n",
       "             n_jobs=2, param_grid={'n_estimators': [1024]}, verbose=1)"
      ]
     },
     "execution_count": 43,
     "metadata": {},
     "output_type": "execute_result"
    }
   ],
   "source": [
    "gbm.fit(x_tr, y_tr)"
   ]
  },
  {
   "cell_type": "code",
   "execution_count": 44,
   "metadata": {},
   "outputs": [],
   "source": [
    "best_clf_GBM = gbm.best_estimator_"
   ]
  },
  {
   "cell_type": "markdown",
   "metadata": {},
   "source": [
    "# 5. Feature importance"
   ]
  },
  {
   "cell_type": "code",
   "execution_count": 45,
   "metadata": {},
   "outputs": [],
   "source": [
    "imp = best_clf_GBM.feature_importances_"
   ]
  },
  {
   "cell_type": "code",
   "execution_count": 46,
   "metadata": {},
   "outputs": [],
   "source": [
    "perm_df = pd.DataFrame((imp, x_tr.columns.to_list()),\n",
    "                       index=('Score', 'Descriptors'))"
   ]
  },
  {
   "cell_type": "code",
   "execution_count": 47,
   "metadata": {},
   "outputs": [
    {
     "data": {
      "text/html": [
       "<div>\n",
       "<style scoped>\n",
       "    .dataframe tbody tr th:only-of-type {\n",
       "        vertical-align: middle;\n",
       "    }\n",
       "\n",
       "    .dataframe tbody tr th {\n",
       "        vertical-align: top;\n",
       "    }\n",
       "\n",
       "    .dataframe thead th {\n",
       "        text-align: right;\n",
       "    }\n",
       "</style>\n",
       "<table border=\"1\" class=\"dataframe\">\n",
       "  <thead>\n",
       "    <tr style=\"text-align: right;\">\n",
       "      <th></th>\n",
       "      <th>0</th>\n",
       "      <th>1</th>\n",
       "      <th>2</th>\n",
       "      <th>3</th>\n",
       "      <th>4</th>\n",
       "      <th>5</th>\n",
       "      <th>6</th>\n",
       "      <th>7</th>\n",
       "      <th>8</th>\n",
       "      <th>9</th>\n",
       "      <th>...</th>\n",
       "      <th>932</th>\n",
       "      <th>933</th>\n",
       "      <th>934</th>\n",
       "      <th>935</th>\n",
       "      <th>936</th>\n",
       "      <th>937</th>\n",
       "      <th>938</th>\n",
       "      <th>939</th>\n",
       "      <th>940</th>\n",
       "      <th>941</th>\n",
       "    </tr>\n",
       "  </thead>\n",
       "  <tbody>\n",
       "    <tr>\n",
       "      <th>Score</th>\n",
       "      <td>0.010</td>\n",
       "      <td>0.000</td>\n",
       "      <td>0.000</td>\n",
       "      <td>0.000</td>\n",
       "      <td>0.000</td>\n",
       "      <td>0.022</td>\n",
       "      <td>0.000</td>\n",
       "      <td>0.000</td>\n",
       "      <td>0.000</td>\n",
       "      <td>0.000</td>\n",
       "      <td>...</td>\n",
       "      <td>0.000</td>\n",
       "      <td>0.000</td>\n",
       "      <td>0.000</td>\n",
       "      <td>0.000</td>\n",
       "      <td>0.000</td>\n",
       "      <td>0.000</td>\n",
       "      <td>0.000</td>\n",
       "      <td>0.000</td>\n",
       "      <td>0.000</td>\n",
       "      <td>0.000</td>\n",
       "    </tr>\n",
       "    <tr>\n",
       "      <th>Descriptors</th>\n",
       "      <td>MW</td>\n",
       "      <td>AMW</td>\n",
       "      <td>Se</td>\n",
       "      <td>Mv</td>\n",
       "      <td>nAA</td>\n",
       "      <td>nTA</td>\n",
       "      <td>RBN</td>\n",
       "      <td>RBF</td>\n",
       "      <td>nDB</td>\n",
       "      <td>nH</td>\n",
       "      <td>...</td>\n",
       "      <td>WHALES30_IR</td>\n",
       "      <td>WHALES40_IR</td>\n",
       "      <td>WHALES50_IR</td>\n",
       "      <td>WHALES70_IR</td>\n",
       "      <td>WHALES80_IR</td>\n",
       "      <td>WHALES90_IR</td>\n",
       "      <td>WHALES100_IR</td>\n",
       "      <td>MDEC-11</td>\n",
       "      <td>MDEC-22</td>\n",
       "      <td>MDEN-23</td>\n",
       "    </tr>\n",
       "  </tbody>\n",
       "</table>\n",
       "<p>2 rows × 942 columns</p>\n",
       "</div>"
      ],
      "text/plain": [
       "              0     1     2     3     4     5     6     7     8     9    ...  \\\n",
       "Score       0.010 0.000 0.000 0.000 0.000 0.022 0.000 0.000 0.000 0.000  ...   \n",
       "Descriptors    MW   AMW    Se    Mv   nAA   nTA   RBN   RBF   nDB    nH  ...   \n",
       "\n",
       "                     932          933          934          935          936  \\\n",
       "Score              0.000        0.000        0.000        0.000        0.000   \n",
       "Descriptors  WHALES30_IR  WHALES40_IR  WHALES50_IR  WHALES70_IR  WHALES80_IR   \n",
       "\n",
       "                     937           938      939      940      941  \n",
       "Score              0.000         0.000    0.000    0.000    0.000  \n",
       "Descriptors  WHALES90_IR  WHALES100_IR  MDEC-11  MDEC-22  MDEN-23  \n",
       "\n",
       "[2 rows x 942 columns]"
      ]
     },
     "execution_count": 47,
     "metadata": {},
     "output_type": "execute_result"
    }
   ],
   "source": [
    "perm_df"
   ]
  },
  {
   "cell_type": "code",
   "execution_count": 48,
   "metadata": {},
   "outputs": [],
   "source": [
    "perm_df = perm_df.T\n",
    "perm_df = perm_df.sort_values(ascending=False, by='Score')"
   ]
  },
  {
   "cell_type": "code",
   "execution_count": 49,
   "metadata": {},
   "outputs": [
    {
     "data": {
      "text/html": [
       "<div>\n",
       "<style scoped>\n",
       "    .dataframe tbody tr th:only-of-type {\n",
       "        vertical-align: middle;\n",
       "    }\n",
       "\n",
       "    .dataframe tbody tr th {\n",
       "        vertical-align: top;\n",
       "    }\n",
       "\n",
       "    .dataframe thead th {\n",
       "        text-align: right;\n",
       "    }\n",
       "</style>\n",
       "<table border=\"1\" class=\"dataframe\">\n",
       "  <thead>\n",
       "    <tr style=\"text-align: right;\">\n",
       "      <th></th>\n",
       "      <th>Score</th>\n",
       "      <th>Descriptors</th>\n",
       "    </tr>\n",
       "  </thead>\n",
       "  <tbody>\n",
       "    <tr>\n",
       "      <th>709</th>\n",
       "      <td>0.111</td>\n",
       "      <td>SaaCH</td>\n",
       "    </tr>\n",
       "    <tr>\n",
       "      <th>132</th>\n",
       "      <td>0.076</td>\n",
       "      <td>MATS2v</td>\n",
       "    </tr>\n",
       "    <tr>\n",
       "      <th>458</th>\n",
       "      <td>0.064</td>\n",
       "      <td>Mor20u</td>\n",
       "    </tr>\n",
       "    <tr>\n",
       "      <th>840</th>\n",
       "      <td>0.048</td>\n",
       "      <td>CATS3D_13_DA</td>\n",
       "    </tr>\n",
       "    <tr>\n",
       "      <th>369</th>\n",
       "      <td>0.043</td>\n",
       "      <td>TDB01s</td>\n",
       "    </tr>\n",
       "  </tbody>\n",
       "</table>\n",
       "</div>"
      ],
      "text/plain": [
       "    Score   Descriptors\n",
       "709 0.111         SaaCH\n",
       "132 0.076        MATS2v\n",
       "458 0.064        Mor20u\n",
       "840 0.048  CATS3D_13_DA\n",
       "369 0.043        TDB01s"
      ]
     },
     "execution_count": 49,
     "metadata": {},
     "output_type": "execute_result"
    }
   ],
   "source": [
    "perm_df[:5]"
   ]
  }
 ],
 "metadata": {
  "kernelspec": {
   "display_name": "Python3 (rdkit)",
   "language": "python",
   "name": "my-rdkit-env"
  },
  "language_info": {
   "codemirror_mode": {
    "name": "ipython",
    "version": 3
   },
   "file_extension": ".py",
   "mimetype": "text/x-python",
   "name": "python",
   "nbconvert_exporter": "python",
   "pygments_lexer": "ipython3",
   "version": "3.7.13"
  }
 },
 "nbformat": 4,
 "nbformat_minor": 2
}
